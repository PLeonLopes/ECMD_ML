{
 "cells": [
  {
   "cell_type": "markdown",
   "metadata": {},
   "source": [
    "ALUNO: PEDRO NÍCOLLAS PEREIRA LEON LOPES"
   ]
  },
  {
   "cell_type": "markdown",
   "metadata": {},
   "source": [
    "### 2. Classificação com K-Nearest Neighbors (KNN)\n",
    "\n",
    "Construa um modelo KNN para prever a classe de um conjunto de dados (por exemplo, Wine).\n",
    "\n",
    "Utilize validação cruzada para ajustar o número de vizinhos e avalie o desempenho com a métrica F1-Score."
   ]
  },
  {
   "cell_type": "code",
   "execution_count": 1,
   "metadata": {},
   "outputs": [
    {
     "data": {
      "text/plain": [
       "'\\nDATASET UTILIZADO -> Wine Spain (data/wines/SPA.csv)\\n\\nDisponível em: https://www.kaggle.com/datasets/fedesoriano/spanish-wine-quality-dataset/\\n'"
      ]
     },
     "execution_count": 1,
     "metadata": {},
     "output_type": "execute_result"
    }
   ],
   "source": [
    "'''\n",
    "DATASET UTILIZADO -> Wine Spain (data/wines/SPA.csv)\n",
    "\n",
    "Disponível em: https://www.kaggle.com/datasets/fedesoriano/spanish-wine-quality-dataset/\n",
    "'''"
   ]
  },
  {
   "cell_type": "code",
   "execution_count": 18,
   "metadata": {},
   "outputs": [],
   "source": [
    "# Conjunto de Importações\n",
    "import pandas as pd\n",
    "import numpy as np\n",
    "import matplotlib.pyplot as plt\n",
    "import seaborn as sns\n",
    "from sklearn.metrics import accuracy_score, f1_score, confusion_matrix, ConfusionMatrixDisplay\n",
    "from sklearn.impute import SimpleImputer\n",
    "from sklearn.model_selection import train_test_split"
   ]
  },
  {
   "cell_type": "code",
   "execution_count": 3,
   "metadata": {},
   "outputs": [],
   "source": [
    "dados = pd.read_csv(\"data/wines_SPA.csv\")            # lendo o .csv"
   ]
  },
  {
   "cell_type": "code",
   "execution_count": 4,
   "metadata": {},
   "outputs": [
    {
     "data": {
      "text/html": [
       "<div>\n",
       "<style scoped>\n",
       "    .dataframe tbody tr th:only-of-type {\n",
       "        vertical-align: middle;\n",
       "    }\n",
       "\n",
       "    .dataframe tbody tr th {\n",
       "        vertical-align: top;\n",
       "    }\n",
       "\n",
       "    .dataframe thead th {\n",
       "        text-align: right;\n",
       "    }\n",
       "</style>\n",
       "<table border=\"1\" class=\"dataframe\">\n",
       "  <thead>\n",
       "    <tr style=\"text-align: right;\">\n",
       "      <th></th>\n",
       "      <th>winery</th>\n",
       "      <th>wine</th>\n",
       "      <th>year</th>\n",
       "      <th>rating</th>\n",
       "      <th>num_reviews</th>\n",
       "      <th>country</th>\n",
       "      <th>region</th>\n",
       "      <th>price</th>\n",
       "      <th>type</th>\n",
       "      <th>body</th>\n",
       "      <th>acidity</th>\n",
       "    </tr>\n",
       "  </thead>\n",
       "  <tbody>\n",
       "    <tr>\n",
       "      <th>0</th>\n",
       "      <td>Teso La Monja</td>\n",
       "      <td>Tinto</td>\n",
       "      <td>2013</td>\n",
       "      <td>4.9</td>\n",
       "      <td>58</td>\n",
       "      <td>Espana</td>\n",
       "      <td>Toro</td>\n",
       "      <td>995.00</td>\n",
       "      <td>Toro Red</td>\n",
       "      <td>5.0</td>\n",
       "      <td>3.0</td>\n",
       "    </tr>\n",
       "    <tr>\n",
       "      <th>1</th>\n",
       "      <td>Artadi</td>\n",
       "      <td>Vina El Pison</td>\n",
       "      <td>2018</td>\n",
       "      <td>4.9</td>\n",
       "      <td>31</td>\n",
       "      <td>Espana</td>\n",
       "      <td>Vino de Espana</td>\n",
       "      <td>313.50</td>\n",
       "      <td>Tempranillo</td>\n",
       "      <td>4.0</td>\n",
       "      <td>2.0</td>\n",
       "    </tr>\n",
       "    <tr>\n",
       "      <th>2</th>\n",
       "      <td>Vega Sicilia</td>\n",
       "      <td>Unico</td>\n",
       "      <td>2009</td>\n",
       "      <td>4.8</td>\n",
       "      <td>1793</td>\n",
       "      <td>Espana</td>\n",
       "      <td>Ribera del Duero</td>\n",
       "      <td>324.95</td>\n",
       "      <td>Ribera Del Duero Red</td>\n",
       "      <td>5.0</td>\n",
       "      <td>3.0</td>\n",
       "    </tr>\n",
       "    <tr>\n",
       "      <th>3</th>\n",
       "      <td>Vega Sicilia</td>\n",
       "      <td>Unico</td>\n",
       "      <td>1999</td>\n",
       "      <td>4.8</td>\n",
       "      <td>1705</td>\n",
       "      <td>Espana</td>\n",
       "      <td>Ribera del Duero</td>\n",
       "      <td>692.96</td>\n",
       "      <td>Ribera Del Duero Red</td>\n",
       "      <td>5.0</td>\n",
       "      <td>3.0</td>\n",
       "    </tr>\n",
       "    <tr>\n",
       "      <th>4</th>\n",
       "      <td>Vega Sicilia</td>\n",
       "      <td>Unico</td>\n",
       "      <td>1996</td>\n",
       "      <td>4.8</td>\n",
       "      <td>1309</td>\n",
       "      <td>Espana</td>\n",
       "      <td>Ribera del Duero</td>\n",
       "      <td>778.06</td>\n",
       "      <td>Ribera Del Duero Red</td>\n",
       "      <td>5.0</td>\n",
       "      <td>3.0</td>\n",
       "    </tr>\n",
       "  </tbody>\n",
       "</table>\n",
       "</div>"
      ],
      "text/plain": [
       "          winery           wine  year  rating  num_reviews country  \\\n",
       "0  Teso La Monja          Tinto  2013     4.9           58  Espana   \n",
       "1         Artadi  Vina El Pison  2018     4.9           31  Espana   \n",
       "2   Vega Sicilia          Unico  2009     4.8         1793  Espana   \n",
       "3   Vega Sicilia          Unico  1999     4.8         1705  Espana   \n",
       "4   Vega Sicilia          Unico  1996     4.8         1309  Espana   \n",
       "\n",
       "             region   price                  type  body  acidity  \n",
       "0              Toro  995.00              Toro Red   5.0      3.0  \n",
       "1    Vino de Espana  313.50           Tempranillo   4.0      2.0  \n",
       "2  Ribera del Duero  324.95  Ribera Del Duero Red   5.0      3.0  \n",
       "3  Ribera del Duero  692.96  Ribera Del Duero Red   5.0      3.0  \n",
       "4  Ribera del Duero  778.06  Ribera Del Duero Red   5.0      3.0  "
      ]
     },
     "execution_count": 4,
     "metadata": {},
     "output_type": "execute_result"
    }
   ],
   "source": [
    "dados.head()            # vendo o cabeçalho do .csv"
   ]
  },
  {
   "cell_type": "code",
   "execution_count": 5,
   "metadata": {},
   "outputs": [
    {
     "data": {
      "text/plain": [
       "winery            0\n",
       "wine              0\n",
       "year              2\n",
       "rating            0\n",
       "num_reviews       0\n",
       "country           0\n",
       "region            0\n",
       "price             0\n",
       "type            545\n",
       "body           1169\n",
       "acidity        1169\n",
       "dtype: int64"
      ]
     },
     "execution_count": 5,
     "metadata": {},
     "output_type": "execute_result"
    }
   ],
   "source": [
    "dados.isna().sum()"
   ]
  },
  {
   "cell_type": "code",
   "execution_count": 6,
   "metadata": {},
   "outputs": [],
   "source": [
    "dados = dados.dropna()          # drop nos NaN's\n",
    "# dados.isna().sum()"
   ]
  },
  {
   "cell_type": "code",
   "execution_count": 7,
   "metadata": {},
   "outputs": [
    {
     "data": {
      "text/plain": [
       "array(['Toro Red', 'Tempranillo', 'Ribera Del Duero Red', 'Pedro Ximenez',\n",
       "       'Red', 'Sherry', 'Priorat Red', 'Rioja Red', 'Rioja White',\n",
       "       'Grenache', 'Cava', 'Verdejo', 'Syrah', 'Monastrell', 'Mencia',\n",
       "       'Sparkling', 'Montsant Red', 'Albarino', 'Chardonnay',\n",
       "       'Cabernet Sauvignon', 'Sauvignon Blanc'], dtype=object)"
      ]
     },
     "execution_count": 7,
     "metadata": {},
     "output_type": "execute_result"
    }
   ],
   "source": [
    "dados['type'].unique()              # valores únicos para \"tipo\" de vinhos"
   ]
  },
  {
   "cell_type": "code",
   "execution_count": 8,
   "metadata": {},
   "outputs": [
    {
     "data": {
      "text/html": [
       "<div>\n",
       "<style scoped>\n",
       "    .dataframe tbody tr th:only-of-type {\n",
       "        vertical-align: middle;\n",
       "    }\n",
       "\n",
       "    .dataframe tbody tr th {\n",
       "        vertical-align: top;\n",
       "    }\n",
       "\n",
       "    .dataframe thead th {\n",
       "        text-align: right;\n",
       "    }\n",
       "</style>\n",
       "<table border=\"1\" class=\"dataframe\">\n",
       "  <thead>\n",
       "    <tr style=\"text-align: right;\">\n",
       "      <th></th>\n",
       "      <th>winery</th>\n",
       "      <th>wine</th>\n",
       "      <th>year</th>\n",
       "      <th>rating</th>\n",
       "      <th>num_reviews</th>\n",
       "      <th>country</th>\n",
       "      <th>region</th>\n",
       "      <th>price</th>\n",
       "      <th>type</th>\n",
       "      <th>body</th>\n",
       "      <th>acidity</th>\n",
       "    </tr>\n",
       "  </thead>\n",
       "  <tbody>\n",
       "    <tr>\n",
       "      <th>0</th>\n",
       "      <td>371</td>\n",
       "      <td>667</td>\n",
       "      <td>61</td>\n",
       "      <td>4.9</td>\n",
       "      <td>58</td>\n",
       "      <td>0</td>\n",
       "      <td>61</td>\n",
       "      <td>995.00</td>\n",
       "      <td>Toro Red</td>\n",
       "      <td>5.0</td>\n",
       "      <td>3.0</td>\n",
       "    </tr>\n",
       "    <tr>\n",
       "      <th>1</th>\n",
       "      <td>30</td>\n",
       "      <td>714</td>\n",
       "      <td>66</td>\n",
       "      <td>4.9</td>\n",
       "      <td>31</td>\n",
       "      <td>0</td>\n",
       "      <td>64</td>\n",
       "      <td>313.50</td>\n",
       "      <td>Tempranillo</td>\n",
       "      <td>4.0</td>\n",
       "      <td>2.0</td>\n",
       "    </tr>\n",
       "    <tr>\n",
       "      <th>2</th>\n",
       "      <td>395</td>\n",
       "      <td>683</td>\n",
       "      <td>57</td>\n",
       "      <td>4.8</td>\n",
       "      <td>1793</td>\n",
       "      <td>0</td>\n",
       "      <td>49</td>\n",
       "      <td>324.95</td>\n",
       "      <td>Ribera Del Duero Red</td>\n",
       "      <td>5.0</td>\n",
       "      <td>3.0</td>\n",
       "    </tr>\n",
       "    <tr>\n",
       "      <th>3</th>\n",
       "      <td>395</td>\n",
       "      <td>683</td>\n",
       "      <td>47</td>\n",
       "      <td>4.8</td>\n",
       "      <td>1705</td>\n",
       "      <td>0</td>\n",
       "      <td>49</td>\n",
       "      <td>692.96</td>\n",
       "      <td>Ribera Del Duero Red</td>\n",
       "      <td>5.0</td>\n",
       "      <td>3.0</td>\n",
       "    </tr>\n",
       "    <tr>\n",
       "      <th>4</th>\n",
       "      <td>395</td>\n",
       "      <td>683</td>\n",
       "      <td>44</td>\n",
       "      <td>4.8</td>\n",
       "      <td>1309</td>\n",
       "      <td>0</td>\n",
       "      <td>49</td>\n",
       "      <td>778.06</td>\n",
       "      <td>Ribera Del Duero Red</td>\n",
       "      <td>5.0</td>\n",
       "      <td>3.0</td>\n",
       "    </tr>\n",
       "  </tbody>\n",
       "</table>\n",
       "</div>"
      ],
      "text/plain": [
       "   winery  wine  year  rating  num_reviews  country  region   price  \\\n",
       "0     371   667    61     4.9           58        0      61  995.00   \n",
       "1      30   714    66     4.9           31        0      64  313.50   \n",
       "2     395   683    57     4.8         1793        0      49  324.95   \n",
       "3     395   683    47     4.8         1705        0      49  692.96   \n",
       "4     395   683    44     4.8         1309        0      49  778.06   \n",
       "\n",
       "                   type  body  acidity  \n",
       "0              Toro Red   5.0      3.0  \n",
       "1           Tempranillo   4.0      2.0  \n",
       "2  Ribera Del Duero Red   5.0      3.0  \n",
       "3  Ribera Del Duero Red   5.0      3.0  \n",
       "4  Ribera Del Duero Red   5.0      3.0  "
      ]
     },
     "execution_count": 8,
     "metadata": {},
     "output_type": "execute_result"
    }
   ],
   "source": [
    "# Convertendo a variável categórica winery e region para numérica\n",
    "from sklearn.preprocessing import LabelEncoder, label_binarize          # Importação do sklearn para transformação da variável (encoding)\n",
    "\n",
    "encoder = LabelEncoder()           # chamando método LabelEncoder()\n",
    "\n",
    "dados['winery'] = encoder.fit_transform(dados['winery'])            # tranformação de STR para NUM\n",
    "dados['region'] = encoder.fit_transform(dados['region'])            # tranformação de STR para NUM\n",
    "dados['wine'] = encoder.fit_transform(dados['wine'])                # tranformação de STR para NUM\n",
    "# dados['country'] = encoder.fit_transform(dados['country'])          # transformação de STR para NUM (Country não está sendo dropado porque não consigo) -> dropada na hora de usar\n",
    "dados['year'] = encoder.fit_transform(dados['year'])                # tranformação de STR para NUM\n",
    "\n",
    "dados.head()                                                        # cabeçalho do .csv (Winery e region agora foram normalizado, com números escolhidos pelo algoritmo)"
   ]
  },
  {
   "cell_type": "markdown",
   "metadata": {},
   "source": [
    "NORMALIZAÇÃO DOS DADOS"
   ]
  },
  {
   "cell_type": "code",
   "execution_count": 9,
   "metadata": {},
   "outputs": [],
   "source": [
    "from sklearn.preprocessing import MinMaxScaler          # importação do sklearn para usar MinMax"
   ]
  },
  {
   "cell_type": "code",
   "execution_count": 10,
   "metadata": {},
   "outputs": [],
   "source": [
    "normalizador = MinMaxScaler(feature_range=(0,1))            # função MinMax para criação de um normalizador"
   ]
  },
  {
   "cell_type": "code",
   "execution_count": 11,
   "metadata": {},
   "outputs": [
    {
     "data": {
      "text/html": [
       "<div>\n",
       "<style scoped>\n",
       "    .dataframe tbody tr th:only-of-type {\n",
       "        vertical-align: middle;\n",
       "    }\n",
       "\n",
       "    .dataframe tbody tr th {\n",
       "        vertical-align: top;\n",
       "    }\n",
       "\n",
       "    .dataframe thead th {\n",
       "        text-align: right;\n",
       "    }\n",
       "</style>\n",
       "<table border=\"1\" class=\"dataframe\">\n",
       "  <thead>\n",
       "    <tr style=\"text-align: right;\">\n",
       "      <th></th>\n",
       "      <th>winery</th>\n",
       "      <th>wine</th>\n",
       "      <th>year</th>\n",
       "      <th>rating</th>\n",
       "      <th>num_reviews</th>\n",
       "      <th>country</th>\n",
       "      <th>region</th>\n",
       "      <th>price</th>\n",
       "      <th>type</th>\n",
       "      <th>body</th>\n",
       "      <th>acidity</th>\n",
       "    </tr>\n",
       "  </thead>\n",
       "  <tbody>\n",
       "    <tr>\n",
       "      <th>0</th>\n",
       "      <td>371</td>\n",
       "      <td>667</td>\n",
       "      <td>61</td>\n",
       "      <td>1.000000</td>\n",
       "      <td>0.001012</td>\n",
       "      <td>0</td>\n",
       "      <td>61</td>\n",
       "      <td>0.317913</td>\n",
       "      <td>Toro Red</td>\n",
       "      <td>1.000000</td>\n",
       "      <td>1.0</td>\n",
       "    </tr>\n",
       "    <tr>\n",
       "      <th>1</th>\n",
       "      <td>30</td>\n",
       "      <td>714</td>\n",
       "      <td>66</td>\n",
       "      <td>1.000000</td>\n",
       "      <td>0.000184</td>\n",
       "      <td>0</td>\n",
       "      <td>64</td>\n",
       "      <td>0.099069</td>\n",
       "      <td>Tempranillo</td>\n",
       "      <td>0.666667</td>\n",
       "      <td>0.5</td>\n",
       "    </tr>\n",
       "    <tr>\n",
       "      <th>2</th>\n",
       "      <td>395</td>\n",
       "      <td>683</td>\n",
       "      <td>57</td>\n",
       "      <td>0.857143</td>\n",
       "      <td>0.054235</td>\n",
       "      <td>0</td>\n",
       "      <td>49</td>\n",
       "      <td>0.102746</td>\n",
       "      <td>Ribera Del Duero Red</td>\n",
       "      <td>1.000000</td>\n",
       "      <td>1.0</td>\n",
       "    </tr>\n",
       "    <tr>\n",
       "      <th>3</th>\n",
       "      <td>395</td>\n",
       "      <td>683</td>\n",
       "      <td>47</td>\n",
       "      <td>0.857143</td>\n",
       "      <td>0.051535</td>\n",
       "      <td>0</td>\n",
       "      <td>49</td>\n",
       "      <td>0.220922</td>\n",
       "      <td>Ribera Del Duero Red</td>\n",
       "      <td>1.000000</td>\n",
       "      <td>1.0</td>\n",
       "    </tr>\n",
       "    <tr>\n",
       "      <th>4</th>\n",
       "      <td>395</td>\n",
       "      <td>683</td>\n",
       "      <td>44</td>\n",
       "      <td>0.857143</td>\n",
       "      <td>0.039388</td>\n",
       "      <td>0</td>\n",
       "      <td>49</td>\n",
       "      <td>0.248249</td>\n",
       "      <td>Ribera Del Duero Red</td>\n",
       "      <td>1.000000</td>\n",
       "      <td>1.0</td>\n",
       "    </tr>\n",
       "  </tbody>\n",
       "</table>\n",
       "</div>"
      ],
      "text/plain": [
       "   winery  wine  year    rating  num_reviews  country  region     price  \\\n",
       "0     371   667    61  1.000000     0.001012        0      61  0.317913   \n",
       "1      30   714    66  1.000000     0.000184        0      64  0.099069   \n",
       "2     395   683    57  0.857143     0.054235        0      49  0.102746   \n",
       "3     395   683    47  0.857143     0.051535        0      49  0.220922   \n",
       "4     395   683    44  0.857143     0.039388        0      49  0.248249   \n",
       "\n",
       "                   type      body  acidity  \n",
       "0              Toro Red  1.000000      1.0  \n",
       "1           Tempranillo  0.666667      0.5  \n",
       "2  Ribera Del Duero Red  1.000000      1.0  \n",
       "3  Ribera Del Duero Red  1.000000      1.0  \n",
       "4  Ribera Del Duero Red  1.000000      1.0  "
      ]
     },
     "execution_count": 11,
     "metadata": {},
     "output_type": "execute_result"
    }
   ],
   "source": [
    "colunas_para_normalizar = ['rating', 'num_reviews', 'price', 'body', 'acidity',]\n",
    "\n",
    "# Normalização dos valores para entre -1 e 1\n",
    "for col in colunas_para_normalizar:\n",
    "    dados[col] = normalizador.fit_transform(dados[col].values.reshape(-1, 1))\n",
    "\n",
    "dados.head()"
   ]
  },
  {
   "cell_type": "markdown",
   "metadata": {},
   "source": [
    "Separando em amostra de treino e teste"
   ]
  },
  {
   "cell_type": "code",
   "execution_count": 12,
   "metadata": {},
   "outputs": [],
   "source": [
    "from sklearn.model_selection import train_test_split            # importação do \"train_test_split\" do sklearn para realizar o treinamento"
   ]
  },
  {
   "cell_type": "code",
   "execution_count": 14,
   "metadata": {},
   "outputs": [],
   "source": [
    "# Atribuindo valores para X e Y\n",
    "X = dados.drop(['country', 'type'], axis=1).values  # ('Purchased' é a coluna alvo)\n",
    "Y = dados['type'].values  # Variável alvo"
   ]
  },
  {
   "cell_type": "code",
   "execution_count": 20,
   "metadata": {},
   "outputs": [],
   "source": [
    "X_treino,X_teste,Y_treino,Y_teste=train_test_split(X,Y,test_size=0.30,random_state=0)           # separação de 30% para teste e 70% para treino"
   ]
  },
  {
   "cell_type": "markdown",
   "metadata": {},
   "source": [
    "Aplicando modelo KNN (K-Nearest Neighbors)"
   ]
  },
  {
   "cell_type": "code",
   "execution_count": 21,
   "metadata": {},
   "outputs": [],
   "source": [
    "from sklearn.neighbors import KNeighborsClassifier"
   ]
  },
  {
   "cell_type": "code",
   "execution_count": 22,
   "metadata": {},
   "outputs": [],
   "source": [
    "modelo_KNN = KNeighborsClassifier()"
   ]
  },
  {
   "cell_type": "code",
   "execution_count": 23,
   "metadata": {},
   "outputs": [
    {
     "name": "stdout",
     "output_type": "stream",
     "text": [
      "The training accuracy for KNN is: 93.43 %\n",
      "The testing accuracy for KNN is: 89.1 %\n"
     ]
    }
   ],
   "source": [
    "modelo_KNN.fit(X_treino, Y_treino)\n",
    "knn_pred = modelo_KNN.predict(X_teste)\n",
    "knn_acc = accuracy_score(Y_teste, knn_pred)\n",
    "print(\"The training accuracy for KNN is:\", round(modelo_KNN.score(X_treino, Y_treino)*100, 2), \"%\")\n",
    "print(\"The testing accuracy for KNN is:\", round(knn_acc * 100,2), \"%\")"
   ]
  }
 ],
 "metadata": {
  "kernelspec": {
   "display_name": "venv",
   "language": "python",
   "name": "python3"
  },
  "language_info": {
   "codemirror_mode": {
    "name": "ipython",
    "version": 3
   },
   "file_extension": ".py",
   "mimetype": "text/x-python",
   "name": "python",
   "nbconvert_exporter": "python",
   "pygments_lexer": "ipython3",
   "version": "3.8.10"
  }
 },
 "nbformat": 4,
 "nbformat_minor": 2
}
