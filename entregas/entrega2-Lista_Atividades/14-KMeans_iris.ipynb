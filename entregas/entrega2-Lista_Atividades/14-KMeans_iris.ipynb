{
 "cells": [
  {
   "cell_type": "markdown",
   "metadata": {},
   "source": [
    "ALUNO: PEDRO NÍCOLLAS PEREIRA LEON LOPES"
   ]
  },
  {
   "cell_type": "markdown",
   "metadata": {},
   "source": [
    "### 14. Clusterização com K-Means\n",
    "Implemente o algoritmo K-Means no conjunto de dados Iris (removendo as labels).\n",
    "\n",
    "Avalie a qualidade da clusterização utilizando o coeficiente de Silhueta e a inércia dos clusters."
   ]
  },
  {
   "cell_type": "code",
   "execution_count": 1,
   "metadata": {},
   "outputs": [],
   "source": [
    "# Conjunto de Importações\n",
    "import pandas as pd\n",
    "from sklearn.datasets import load_iris\n",
    "from sklearn.cluster import KMeans\n",
    "from sklearn.metrics import silhouette_score"
   ]
  },
  {
   "cell_type": "code",
   "execution_count": 2,
   "metadata": {},
   "outputs": [],
   "source": [
    "# DATASET UTILIZADO -> Iris (data/iris.csv)"
   ]
  },
  {
   "cell_type": "code",
   "execution_count": 3,
   "metadata": {},
   "outputs": [],
   "source": [
    "iris = load_iris()          # carregando o database iris direto do sklearn\n",
    "X = iris.data               # guardando os valores"
   ]
  },
  {
   "cell_type": "markdown",
   "metadata": {},
   "source": [
    "UTILIZAÇÃO DO MODELO KMEANS"
   ]
  },
  {
   "cell_type": "code",
   "execution_count": 4,
   "metadata": {},
   "outputs": [
    {
     "name": "stderr",
     "output_type": "stream",
     "text": [
      "d:\\Github\\ECMD_ML\\venv\\lib\\site-packages\\sklearn\\cluster\\_kmeans.py:1416: FutureWarning: The default value of `n_init` will change from 10 to 'auto' in 1.4. Set the value of `n_init` explicitly to suppress the warning\n",
      "  super()._check_params_vs_input(X, default_n_init=10)\n"
     ]
    }
   ],
   "source": [
    "# Modelo KMEANS\n",
    "kmeans = KMeans(n_clusters=2, random_state=10)\n",
    "kmeans.fit(X)                                       # treinamento do modelo\n",
    "\n",
    "# Obter as previsões (com labels)\n",
    "labels = kmeans.labels_"
   ]
  },
  {
   "cell_type": "markdown",
   "metadata": {},
   "source": [
    "# RESULTADOS FINAIS (COEFICIENTE DE SILHUETA e INÉRCIA DOS CLUSTERS)"
   ]
  },
  {
   "cell_type": "code",
   "execution_count": 5,
   "metadata": {},
   "outputs": [
    {
     "name": "stdout",
     "output_type": "stream",
     "text": [
      "Coeficiente de Silhueta: 0.6810461692117462\n",
      "Inércia dos clusters: 152.34795176035792\n"
     ]
    }
   ],
   "source": [
    "silhouette_avg = silhouette_score(X, labels)\n",
    "print(f\"Coeficiente de Silhueta: {silhouette_avg}\")\n",
    "\n",
    "inertia = kmeans.inertia_\n",
    "print(f\"Inércia dos clusters: {inertia}\")"
   ]
  }
 ],
 "metadata": {
  "kernelspec": {
   "display_name": "venv",
   "language": "python",
   "name": "python3"
  },
  "language_info": {
   "codemirror_mode": {
    "name": "ipython",
    "version": 3
   },
   "file_extension": ".py",
   "mimetype": "text/x-python",
   "name": "python",
   "nbconvert_exporter": "python",
   "pygments_lexer": "ipython3",
   "version": "3.8.10"
  }
 },
 "nbformat": 4,
 "nbformat_minor": 2
}
