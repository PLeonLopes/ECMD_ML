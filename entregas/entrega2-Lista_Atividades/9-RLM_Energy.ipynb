{
 "cells": [
  {
   "cell_type": "markdown",
   "metadata": {},
   "source": [
    "ALUNO: PEDRO NÍCOLLAS PEREIRA LEON LOPES"
   ]
  },
  {
   "cell_type": "markdown",
   "metadata": {},
   "source": [
    "### 9. Regressão Linear Múltipla\n",
    "o Utilize regressão linear múltipla para prever o consumo de energia com base em várias variáveis.\n",
    "\n",
    "Avalie o desempenho utilizando o erro médio quadrático (MSE) e o R²."
   ]
  },
  {
   "cell_type": "code",
   "execution_count": 8,
   "metadata": {},
   "outputs": [],
   "source": [
    "# Conjunto de Importações\n",
    "import pandas as pd\n",
    "import numpy as np\n",
    "import matplotlib.pyplot as plt"
   ]
  },
  {
   "cell_type": "code",
   "execution_count": 9,
   "metadata": {},
   "outputs": [],
   "source": [
    "# Geração de dados sintéticos usando Numpy\n",
    "\n",
    "np.random.seed(42)\n",
    "\n",
    "X = pd.DataFrame({'var1' : np.random.rand(100), 'var2' : np.random.rand(100), 'var3' : np.random.rand(100),})           # criação de 3 variáveis ('var1'->Temperatura, 'var2'->umidade, 'var3'->pessoas_usando_energia)\n",
    "\n",
    "Y = 3 * X['var1'] + 2 * X['var2'] + 1 * X['var1'] + np.random.randn(100) * 0.1          # calculo de consumo de energia     (x -> consumo de energia e coluna alvo)"
   ]
  },
  {
   "cell_type": "code",
   "execution_count": 10,
   "metadata": {},
   "outputs": [],
   "source": [
    "from sklearn.model_selection import train_test_split\n",
    "\n",
    "x_train, x_test, y_train, y_test = train_test_split(X, Y, test_size=0.3, random_state=42)           # separação de 30% para teste e 70% para treino"
   ]
  },
  {
   "cell_type": "markdown",
   "metadata": {},
   "source": [
    "Aplicando Modelo de RLM (Multiple Linear Regression)"
   ]
  },
  {
   "cell_type": "code",
   "execution_count": 11,
   "metadata": {},
   "outputs": [],
   "source": [
    "from sklearn.linear_model import LinearRegression           # import para utilizar LinearRegression()\n",
    "\n",
    "model = LinearRegression()          # utilização do modelo LinearRegression()"
   ]
  },
  {
   "cell_type": "code",
   "execution_count": 12,
   "metadata": {},
   "outputs": [],
   "source": [
    "# Treinamento do Modelo\n",
    "model.fit(x_train, y_train)         \n",
    "\n",
    "y_pred = model.predict(x_test)          # Usando os dados para fazer a previsão"
   ]
  },
  {
   "cell_type": "markdown",
   "metadata": {},
   "source": [
    "# RESULTADOS FINAIS (MSE e R²)"
   ]
  },
  {
   "cell_type": "code",
   "execution_count": 13,
   "metadata": {},
   "outputs": [],
   "source": [
    "from sklearn.metrics import mean_squared_error, r2_score"
   ]
  },
  {
   "cell_type": "code",
   "execution_count": 14,
   "metadata": {},
   "outputs": [
    {
     "name": "stdout",
     "output_type": "stream",
     "text": [
      "Mean Squared Error (MSE): 0.01583397795413863\n"
     ]
    }
   ],
   "source": [
    "# MSE\n",
    "mse = mean_squared_error(y_test, y_pred)\n",
    "print(f\"Mean Squared Error (MSE): {mse}\")"
   ]
  },
  {
   "cell_type": "code",
   "execution_count": 15,
   "metadata": {},
   "outputs": [
    {
     "name": "stdout",
     "output_type": "stream",
     "text": [
      "R² score: 0.9918108213866502\n"
     ]
    }
   ],
   "source": [
    "# R2 SCORE (print)\n",
    "r2 = r2_score(y_test, y_pred)\n",
    "print(f\"R² score: {r2}\")"
   ]
  }
 ],
 "metadata": {
  "kernelspec": {
   "display_name": "venv",
   "language": "python",
   "name": "python3"
  },
  "language_info": {
   "codemirror_mode": {
    "name": "ipython",
    "version": 3
   },
   "file_extension": ".py",
   "mimetype": "text/x-python",
   "name": "python",
   "nbconvert_exporter": "python",
   "pygments_lexer": "ipython3",
   "version": "3.8.10"
  }
 },
 "nbformat": 4,
 "nbformat_minor": 2
}
