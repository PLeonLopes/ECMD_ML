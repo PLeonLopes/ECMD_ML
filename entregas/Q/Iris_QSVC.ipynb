{
 "cells": [
  {
   "cell_type": "code",
   "execution_count": 1,
   "metadata": {},
   "outputs": [],
   "source": [
    "# Conjunto de Importações\n",
    "import numpy as np\n",
    "import pandas as pd\n",
    "import matplotlib.pyplot as plt\n",
    "from qiskit_aer import AerSimulator\n",
    "from qiskit.primitives import BackendSampler\n",
    "from qiskit_algorithms.utils import algorithm_globals\n",
    "from sklearn.feature_selection import SelectKBest, chi2\n",
    "from qiskit_algorithms.state_fidelities import ComputeUncompute\n",
    "from qiskit_machine_learning.kernels import FidelityQuantumKernel\n",
    "\n",
    "algorithm_globals.random_seed = 42"
   ]
  },
  {
   "cell_type": "code",
   "execution_count": 2,
   "metadata": {},
   "outputs": [],
   "source": [
    "# Carregando o dataset\n",
    "from sklearn.datasets import load_iris\n",
    "\n",
    "data = load_iris()              # leitura do dataset (diretamente pelo sklearn)\n",
    "# dados = pd.read_csv(\"../data/iris.csv\") -> leitura também poderia ser feita por .csv"
   ]
  },
  {
   "cell_type": "code",
   "execution_count": 3,
   "metadata": {},
   "outputs": [
    {
     "name": "stdout",
     "output_type": "stream",
     "text": [
      "[[5.1 3.5 1.4 0.2]\n",
      " [4.9 3.  1.4 0.2]\n",
      " [4.7 3.2 1.3 0.2]\n",
      " [4.6 3.1 1.5 0.2]\n",
      " [5.  3.6 1.4 0.2]\n",
      " [5.4 3.9 1.7 0.4]\n",
      " [4.6 3.4 1.4 0.3]\n",
      " [5.  3.4 1.5 0.2]\n",
      " [4.4 2.9 1.4 0.2]\n",
      " [4.9 3.1 1.5 0.1]\n",
      " [5.4 3.7 1.5 0.2]\n",
      " [4.8 3.4 1.6 0.2]\n",
      " [4.8 3.  1.4 0.1]\n",
      " [4.3 3.  1.1 0.1]\n",
      " [5.8 4.  1.2 0.2]\n",
      " [5.7 4.4 1.5 0.4]\n",
      " [5.4 3.9 1.3 0.4]\n",
      " [5.1 3.5 1.4 0.3]\n",
      " [5.7 3.8 1.7 0.3]\n",
      " [5.1 3.8 1.5 0.3]\n",
      " [5.4 3.4 1.7 0.2]\n",
      " [5.1 3.7 1.5 0.4]\n",
      " [4.6 3.6 1.  0.2]\n",
      " [5.1 3.3 1.7 0.5]\n",
      " [4.8 3.4 1.9 0.2]\n",
      " [5.  3.  1.6 0.2]\n",
      " [5.  3.4 1.6 0.4]\n",
      " [5.2 3.5 1.5 0.2]\n",
      " [5.2 3.4 1.4 0.2]\n",
      " [4.7 3.2 1.6 0.2]\n",
      " [4.8 3.1 1.6 0.2]\n",
      " [5.4 3.4 1.5 0.4]\n",
      " [5.2 4.1 1.5 0.1]\n",
      " [5.5 4.2 1.4 0.2]\n",
      " [4.9 3.1 1.5 0.2]\n",
      " [5.  3.2 1.2 0.2]\n",
      " [5.5 3.5 1.3 0.2]\n",
      " [4.9 3.6 1.4 0.1]\n",
      " [4.4 3.  1.3 0.2]\n",
      " [5.1 3.4 1.5 0.2]\n",
      " [5.  3.5 1.3 0.3]\n",
      " [4.5 2.3 1.3 0.3]\n",
      " [4.4 3.2 1.3 0.2]\n",
      " [5.  3.5 1.6 0.6]\n",
      " [5.1 3.8 1.9 0.4]\n",
      " [4.8 3.  1.4 0.3]\n",
      " [5.1 3.8 1.6 0.2]\n",
      " [4.6 3.2 1.4 0.2]\n",
      " [5.3 3.7 1.5 0.2]\n",
      " [5.  3.3 1.4 0.2]\n",
      " [7.  3.2 4.7 1.4]\n",
      " [6.4 3.2 4.5 1.5]\n",
      " [6.9 3.1 4.9 1.5]\n",
      " [5.5 2.3 4.  1.3]\n",
      " [6.5 2.8 4.6 1.5]\n",
      " [5.7 2.8 4.5 1.3]\n",
      " [6.3 3.3 4.7 1.6]\n",
      " [4.9 2.4 3.3 1. ]\n",
      " [6.6 2.9 4.6 1.3]\n",
      " [5.2 2.7 3.9 1.4]\n",
      " [5.  2.  3.5 1. ]\n",
      " [5.9 3.  4.2 1.5]\n",
      " [6.  2.2 4.  1. ]\n",
      " [6.1 2.9 4.7 1.4]\n",
      " [5.6 2.9 3.6 1.3]\n",
      " [6.7 3.1 4.4 1.4]\n",
      " [5.6 3.  4.5 1.5]\n",
      " [5.8 2.7 4.1 1. ]\n",
      " [6.2 2.2 4.5 1.5]\n",
      " [5.6 2.5 3.9 1.1]\n",
      " [5.9 3.2 4.8 1.8]\n",
      " [6.1 2.8 4.  1.3]\n",
      " [6.3 2.5 4.9 1.5]\n",
      " [6.1 2.8 4.7 1.2]\n",
      " [6.4 2.9 4.3 1.3]\n",
      " [6.6 3.  4.4 1.4]\n",
      " [6.8 2.8 4.8 1.4]\n",
      " [6.7 3.  5.  1.7]\n",
      " [6.  2.9 4.5 1.5]\n",
      " [5.7 2.6 3.5 1. ]\n",
      " [5.5 2.4 3.8 1.1]\n",
      " [5.5 2.4 3.7 1. ]\n",
      " [5.8 2.7 3.9 1.2]\n",
      " [6.  2.7 5.1 1.6]\n",
      " [5.4 3.  4.5 1.5]\n",
      " [6.  3.4 4.5 1.6]\n",
      " [6.7 3.1 4.7 1.5]\n",
      " [6.3 2.3 4.4 1.3]\n",
      " [5.6 3.  4.1 1.3]\n",
      " [5.5 2.5 4.  1.3]\n",
      " [5.5 2.6 4.4 1.2]\n",
      " [6.1 3.  4.6 1.4]\n",
      " [5.8 2.6 4.  1.2]\n",
      " [5.  2.3 3.3 1. ]\n",
      " [5.6 2.7 4.2 1.3]\n",
      " [5.7 3.  4.2 1.2]\n",
      " [5.7 2.9 4.2 1.3]\n",
      " [6.2 2.9 4.3 1.3]\n",
      " [5.1 2.5 3.  1.1]\n",
      " [5.7 2.8 4.1 1.3]\n",
      " [6.3 3.3 6.  2.5]\n",
      " [5.8 2.7 5.1 1.9]\n",
      " [7.1 3.  5.9 2.1]\n",
      " [6.3 2.9 5.6 1.8]\n",
      " [6.5 3.  5.8 2.2]\n",
      " [7.6 3.  6.6 2.1]\n",
      " [4.9 2.5 4.5 1.7]\n",
      " [7.3 2.9 6.3 1.8]\n",
      " [6.7 2.5 5.8 1.8]\n",
      " [7.2 3.6 6.1 2.5]\n",
      " [6.5 3.2 5.1 2. ]\n",
      " [6.4 2.7 5.3 1.9]\n",
      " [6.8 3.  5.5 2.1]\n",
      " [5.7 2.5 5.  2. ]\n",
      " [5.8 2.8 5.1 2.4]\n",
      " [6.4 3.2 5.3 2.3]\n",
      " [6.5 3.  5.5 1.8]\n",
      " [7.7 3.8 6.7 2.2]\n",
      " [7.7 2.6 6.9 2.3]\n",
      " [6.  2.2 5.  1.5]\n",
      " [6.9 3.2 5.7 2.3]\n",
      " [5.6 2.8 4.9 2. ]\n",
      " [7.7 2.8 6.7 2. ]\n",
      " [6.3 2.7 4.9 1.8]\n",
      " [6.7 3.3 5.7 2.1]\n",
      " [7.2 3.2 6.  1.8]\n",
      " [6.2 2.8 4.8 1.8]\n",
      " [6.1 3.  4.9 1.8]\n",
      " [6.4 2.8 5.6 2.1]\n",
      " [7.2 3.  5.8 1.6]\n",
      " [7.4 2.8 6.1 1.9]\n",
      " [7.9 3.8 6.4 2. ]\n",
      " [6.4 2.8 5.6 2.2]\n",
      " [6.3 2.8 5.1 1.5]\n",
      " [6.1 2.6 5.6 1.4]\n",
      " [7.7 3.  6.1 2.3]\n",
      " [6.3 3.4 5.6 2.4]\n",
      " [6.4 3.1 5.5 1.8]\n",
      " [6.  3.  4.8 1.8]\n",
      " [6.9 3.1 5.4 2.1]\n",
      " [6.7 3.1 5.6 2.4]\n",
      " [6.9 3.1 5.1 2.3]\n",
      " [5.8 2.7 5.1 1.9]\n",
      " [6.8 3.2 5.9 2.3]\n",
      " [6.7 3.3 5.7 2.5]\n",
      " [6.7 3.  5.2 2.3]\n",
      " [6.3 2.5 5.  1.9]\n",
      " [6.5 3.  5.2 2. ]\n",
      " [6.2 3.4 5.4 2.3]\n",
      " [5.9 3.  5.1 1.8]]\n"
     ]
    }
   ],
   "source": [
    "# Atribuindo valores para X e Y (data e target)\n",
    "X, y = data.data, data.target\n",
    "print(X)                        # valores da data"
   ]
  },
  {
   "cell_type": "code",
   "execution_count": 4,
   "metadata": {},
   "outputs": [
    {
     "data": {
      "text/plain": [
       "array([0, 0, 0, 0, 0, 0, 0, 0, 0, 0, 0, 0, 0, 0, 0, 0, 0, 0, 0, 0, 0, 0,\n",
       "       0, 0, 0, 0, 0, 0, 0, 0, 0, 0, 0, 0, 0, 0, 0, 0, 0, 0, 0, 0, 0, 0,\n",
       "       0, 0, 0, 0, 0, 0, 1, 1, 1, 1, 1, 1, 1, 1, 1, 1, 1, 1, 1, 1, 1, 1,\n",
       "       1, 1, 1, 1, 1, 1, 1, 1, 1, 1, 1, 1, 1, 1, 1, 1, 1, 1, 1, 1, 1, 1,\n",
       "       1, 1, 1, 1, 1, 1, 1, 1, 1, 1, 1, 1, 2, 2, 2, 2, 2, 2, 2, 2, 2, 2,\n",
       "       2, 2, 2, 2, 2, 2, 2, 2, 2, 2, 2, 2, 2, 2, 2, 2, 2, 2, 2, 2, 2, 2,\n",
       "       2, 2, 2, 2, 2, 2, 2, 2, 2, 2, 2, 2, 2, 2, 2, 2, 2, 2])"
      ]
     },
     "execution_count": 4,
     "metadata": {},
     "output_type": "execute_result"
    }
   ],
   "source": [
    "y           # valores do target"
   ]
  },
  {
   "cell_type": "code",
   "execution_count": 5,
   "metadata": {},
   "outputs": [
    {
     "name": "stdout",
     "output_type": "stream",
     "text": [
      "[[-5.55555556e-01  2.50000000e-01 -8.64406780e-01 -9.16666667e-01]\n",
      " [-6.66666667e-01 -1.66666667e-01 -8.64406780e-01 -9.16666667e-01]\n",
      " [-7.77777778e-01  0.00000000e+00 -8.98305085e-01 -9.16666667e-01]\n",
      " [-8.33333333e-01 -8.33333333e-02 -8.30508475e-01 -9.16666667e-01]\n",
      " [-6.11111111e-01  3.33333333e-01 -8.64406780e-01 -9.16666667e-01]\n",
      " [-3.88888889e-01  5.83333333e-01 -7.62711864e-01 -7.50000000e-01]\n",
      " [-8.33333333e-01  1.66666667e-01 -8.64406780e-01 -8.33333333e-01]\n",
      " [-6.11111111e-01  1.66666667e-01 -8.30508475e-01 -9.16666667e-01]\n",
      " [-9.44444444e-01 -2.50000000e-01 -8.64406780e-01 -9.16666667e-01]\n",
      " [-6.66666667e-01 -8.33333333e-02 -8.30508475e-01 -1.00000000e+00]\n",
      " [-3.88888889e-01  4.16666667e-01 -8.30508475e-01 -9.16666667e-01]\n",
      " [-7.22222222e-01  1.66666667e-01 -7.96610169e-01 -9.16666667e-01]\n",
      " [-7.22222222e-01 -1.66666667e-01 -8.64406780e-01 -1.00000000e+00]\n",
      " [-1.00000000e+00 -1.66666667e-01 -9.66101695e-01 -1.00000000e+00]\n",
      " [-1.66666667e-01  6.66666667e-01 -9.32203390e-01 -9.16666667e-01]\n",
      " [-2.22222222e-01  1.00000000e+00 -8.30508475e-01 -7.50000000e-01]\n",
      " [-3.88888889e-01  5.83333333e-01 -8.98305085e-01 -7.50000000e-01]\n",
      " [-5.55555556e-01  2.50000000e-01 -8.64406780e-01 -8.33333333e-01]\n",
      " [-2.22222222e-01  5.00000000e-01 -7.62711864e-01 -8.33333333e-01]\n",
      " [-5.55555556e-01  5.00000000e-01 -8.30508475e-01 -8.33333333e-01]\n",
      " [-3.88888889e-01  1.66666667e-01 -7.62711864e-01 -9.16666667e-01]\n",
      " [-5.55555556e-01  4.16666667e-01 -8.30508475e-01 -7.50000000e-01]\n",
      " [-8.33333333e-01  3.33333333e-01 -1.00000000e+00 -9.16666667e-01]\n",
      " [-5.55555556e-01  8.33333333e-02 -7.62711864e-01 -6.66666667e-01]\n",
      " [-7.22222222e-01  1.66666667e-01 -6.94915254e-01 -9.16666667e-01]\n",
      " [-6.11111111e-01 -1.66666667e-01 -7.96610169e-01 -9.16666667e-01]\n",
      " [-6.11111111e-01  1.66666667e-01 -7.96610169e-01 -7.50000000e-01]\n",
      " [-5.00000000e-01  2.50000000e-01 -8.30508475e-01 -9.16666667e-01]\n",
      " [-5.00000000e-01  1.66666667e-01 -8.64406780e-01 -9.16666667e-01]\n",
      " [-7.77777778e-01  0.00000000e+00 -7.96610169e-01 -9.16666667e-01]\n",
      " [-7.22222222e-01 -8.33333333e-02 -7.96610169e-01 -9.16666667e-01]\n",
      " [-3.88888889e-01  1.66666667e-01 -8.30508475e-01 -7.50000000e-01]\n",
      " [-5.00000000e-01  7.50000000e-01 -8.30508475e-01 -1.00000000e+00]\n",
      " [-3.33333333e-01  8.33333333e-01 -8.64406780e-01 -9.16666667e-01]\n",
      " [-6.66666667e-01 -8.33333333e-02 -8.30508475e-01 -9.16666667e-01]\n",
      " [-6.11111111e-01  0.00000000e+00 -9.32203390e-01 -9.16666667e-01]\n",
      " [-3.33333333e-01  2.50000000e-01 -8.98305085e-01 -9.16666667e-01]\n",
      " [-6.66666667e-01  3.33333333e-01 -8.64406780e-01 -1.00000000e+00]\n",
      " [-9.44444444e-01 -1.66666667e-01 -8.98305085e-01 -9.16666667e-01]\n",
      " [-5.55555556e-01  1.66666667e-01 -8.30508475e-01 -9.16666667e-01]\n",
      " [-6.11111111e-01  2.50000000e-01 -8.98305085e-01 -8.33333333e-01]\n",
      " [-8.88888889e-01 -7.50000000e-01 -8.98305085e-01 -8.33333333e-01]\n",
      " [-9.44444444e-01  0.00000000e+00 -8.98305085e-01 -9.16666667e-01]\n",
      " [-6.11111111e-01  2.50000000e-01 -7.96610169e-01 -5.83333333e-01]\n",
      " [-5.55555556e-01  5.00000000e-01 -6.94915254e-01 -7.50000000e-01]\n",
      " [-7.22222222e-01 -1.66666667e-01 -8.64406780e-01 -8.33333333e-01]\n",
      " [-5.55555556e-01  5.00000000e-01 -7.96610169e-01 -9.16666667e-01]\n",
      " [-8.33333333e-01  0.00000000e+00 -8.64406780e-01 -9.16666667e-01]\n",
      " [-4.44444444e-01  4.16666667e-01 -8.30508475e-01 -9.16666667e-01]\n",
      " [-6.11111111e-01  8.33333333e-02 -8.64406780e-01 -9.16666667e-01]\n",
      " [ 5.00000000e-01  0.00000000e+00  2.54237288e-01  8.33333333e-02]\n",
      " [ 1.66666667e-01  0.00000000e+00  1.86440678e-01  1.66666667e-01]\n",
      " [ 4.44444444e-01 -8.33333333e-02  3.22033898e-01  1.66666667e-01]\n",
      " [-3.33333333e-01 -7.50000000e-01  1.69491525e-02  2.22044605e-16]\n",
      " [ 2.22222222e-01 -3.33333333e-01  2.20338983e-01  1.66666667e-01]\n",
      " [-2.22222222e-01 -3.33333333e-01  1.86440678e-01  2.22044605e-16]\n",
      " [ 1.11111111e-01  8.33333333e-02  2.54237288e-01  2.50000000e-01]\n",
      " [-6.66666667e-01 -6.66666667e-01 -2.20338983e-01 -2.50000000e-01]\n",
      " [ 2.77777778e-01 -2.50000000e-01  2.20338983e-01  2.22044605e-16]\n",
      " [-5.00000000e-01 -4.16666667e-01 -1.69491525e-02  8.33333333e-02]\n",
      " [-6.11111111e-01 -1.00000000e+00 -1.52542373e-01 -2.50000000e-01]\n",
      " [-1.11111111e-01 -1.66666667e-01  8.47457627e-02  1.66666667e-01]\n",
      " [-5.55555556e-02 -8.33333333e-01  1.69491525e-02 -2.50000000e-01]\n",
      " [-4.44089210e-16 -2.50000000e-01  2.54237288e-01  8.33333333e-02]\n",
      " [-2.77777778e-01 -2.50000000e-01 -1.18644068e-01  2.22044605e-16]\n",
      " [ 3.33333333e-01 -8.33333333e-02  1.52542373e-01  8.33333333e-02]\n",
      " [-2.77777778e-01 -1.66666667e-01  1.86440678e-01  1.66666667e-01]\n",
      " [-1.66666667e-01 -4.16666667e-01  5.08474576e-02 -2.50000000e-01]\n",
      " [ 5.55555556e-02 -8.33333333e-01  1.86440678e-01  1.66666667e-01]\n",
      " [-2.77777778e-01 -5.83333333e-01 -1.69491525e-02 -1.66666667e-01]\n",
      " [-1.11111111e-01  0.00000000e+00  2.88135593e-01  4.16666667e-01]\n",
      " [-4.44089210e-16 -3.33333333e-01  1.69491525e-02  2.22044605e-16]\n",
      " [ 1.11111111e-01 -5.83333333e-01  3.22033898e-01  1.66666667e-01]\n",
      " [-4.44089210e-16 -3.33333333e-01  2.54237288e-01 -8.33333333e-02]\n",
      " [ 1.66666667e-01 -2.50000000e-01  1.18644068e-01  2.22044605e-16]\n",
      " [ 2.77777778e-01 -1.66666667e-01  1.52542373e-01  8.33333333e-02]\n",
      " [ 3.88888889e-01 -3.33333333e-01  2.88135593e-01  8.33333333e-02]\n",
      " [ 3.33333333e-01 -1.66666667e-01  3.55932203e-01  3.33333333e-01]\n",
      " [-5.55555556e-02 -2.50000000e-01  1.86440678e-01  1.66666667e-01]\n",
      " [-2.22222222e-01 -5.00000000e-01 -1.52542373e-01 -2.50000000e-01]\n",
      " [-3.33333333e-01 -6.66666667e-01 -5.08474576e-02 -1.66666667e-01]\n",
      " [-3.33333333e-01 -6.66666667e-01 -8.47457627e-02 -2.50000000e-01]\n",
      " [-1.66666667e-01 -4.16666667e-01 -1.69491525e-02 -8.33333333e-02]\n",
      " [-5.55555556e-02 -4.16666667e-01  3.89830508e-01  2.50000000e-01]\n",
      " [-3.88888889e-01 -1.66666667e-01  1.86440678e-01  1.66666667e-01]\n",
      " [-5.55555556e-02  1.66666667e-01  1.86440678e-01  2.50000000e-01]\n",
      " [ 3.33333333e-01 -8.33333333e-02  2.54237288e-01  1.66666667e-01]\n",
      " [ 1.11111111e-01 -7.50000000e-01  1.52542373e-01  2.22044605e-16]\n",
      " [-2.77777778e-01 -1.66666667e-01  5.08474576e-02  2.22044605e-16]\n",
      " [-3.33333333e-01 -5.83333333e-01  1.69491525e-02  2.22044605e-16]\n",
      " [-3.33333333e-01 -5.00000000e-01  1.52542373e-01 -8.33333333e-02]\n",
      " [-4.44089210e-16 -1.66666667e-01  2.20338983e-01  8.33333333e-02]\n",
      " [-1.66666667e-01 -5.00000000e-01  1.69491525e-02 -8.33333333e-02]\n",
      " [-6.11111111e-01 -7.50000000e-01 -2.20338983e-01 -2.50000000e-01]\n",
      " [-2.77777778e-01 -4.16666667e-01  8.47457627e-02  2.22044605e-16]\n",
      " [-2.22222222e-01 -1.66666667e-01  8.47457627e-02 -8.33333333e-02]\n",
      " [-2.22222222e-01 -2.50000000e-01  8.47457627e-02  2.22044605e-16]\n",
      " [ 5.55555556e-02 -2.50000000e-01  1.18644068e-01  2.22044605e-16]\n",
      " [-5.55555556e-01 -5.83333333e-01 -3.22033898e-01 -1.66666667e-01]\n",
      " [-2.22222222e-01 -3.33333333e-01  5.08474576e-02  2.22044605e-16]\n",
      " [ 1.11111111e-01  8.33333333e-02  6.94915254e-01  1.00000000e+00]\n",
      " [-1.66666667e-01 -4.16666667e-01  3.89830508e-01  5.00000000e-01]\n",
      " [ 5.55555556e-01 -1.66666667e-01  6.61016949e-01  6.66666667e-01]\n",
      " [ 1.11111111e-01 -2.50000000e-01  5.59322034e-01  4.16666667e-01]\n",
      " [ 2.22222222e-01 -1.66666667e-01  6.27118644e-01  7.50000000e-01]\n",
      " [ 8.33333333e-01 -1.66666667e-01  8.98305085e-01  6.66666667e-01]\n",
      " [-6.66666667e-01 -5.83333333e-01  1.86440678e-01  3.33333333e-01]\n",
      " [ 6.66666667e-01 -2.50000000e-01  7.96610169e-01  4.16666667e-01]\n",
      " [ 3.33333333e-01 -5.83333333e-01  6.27118644e-01  4.16666667e-01]\n",
      " [ 6.11111111e-01  3.33333333e-01  7.28813559e-01  1.00000000e+00]\n",
      " [ 2.22222222e-01  0.00000000e+00  3.89830508e-01  5.83333333e-01]\n",
      " [ 1.66666667e-01 -4.16666667e-01  4.57627119e-01  5.00000000e-01]\n",
      " [ 3.88888889e-01 -1.66666667e-01  5.25423729e-01  6.66666667e-01]\n",
      " [-2.22222222e-01 -5.83333333e-01  3.55932203e-01  5.83333333e-01]\n",
      " [-1.66666667e-01 -3.33333333e-01  3.89830508e-01  9.16666667e-01]\n",
      " [ 1.66666667e-01  0.00000000e+00  4.57627119e-01  8.33333333e-01]\n",
      " [ 2.22222222e-01 -1.66666667e-01  5.25423729e-01  4.16666667e-01]\n",
      " [ 8.88888889e-01  5.00000000e-01  9.32203390e-01  7.50000000e-01]\n",
      " [ 8.88888889e-01 -5.00000000e-01  1.00000000e+00  8.33333333e-01]\n",
      " [-5.55555556e-02 -8.33333333e-01  3.55932203e-01  1.66666667e-01]\n",
      " [ 4.44444444e-01  0.00000000e+00  5.93220339e-01  8.33333333e-01]\n",
      " [-2.77777778e-01 -3.33333333e-01  3.22033898e-01  5.83333333e-01]\n",
      " [ 8.88888889e-01 -3.33333333e-01  9.32203390e-01  5.83333333e-01]\n",
      " [ 1.11111111e-01 -4.16666667e-01  3.22033898e-01  4.16666667e-01]\n",
      " [ 3.33333333e-01  8.33333333e-02  5.93220339e-01  6.66666667e-01]\n",
      " [ 6.11111111e-01  0.00000000e+00  6.94915254e-01  4.16666667e-01]\n",
      " [ 5.55555556e-02 -3.33333333e-01  2.88135593e-01  4.16666667e-01]\n",
      " [-4.44089210e-16 -1.66666667e-01  3.22033898e-01  4.16666667e-01]\n",
      " [ 1.66666667e-01 -3.33333333e-01  5.59322034e-01  6.66666667e-01]\n",
      " [ 6.11111111e-01 -1.66666667e-01  6.27118644e-01  2.50000000e-01]\n",
      " [ 7.22222222e-01 -3.33333333e-01  7.28813559e-01  5.00000000e-01]\n",
      " [ 1.00000000e+00  5.00000000e-01  8.30508475e-01  5.83333333e-01]\n",
      " [ 1.66666667e-01 -3.33333333e-01  5.59322034e-01  7.50000000e-01]\n",
      " [ 1.11111111e-01 -3.33333333e-01  3.89830508e-01  1.66666667e-01]\n",
      " [-4.44089210e-16 -5.00000000e-01  5.59322034e-01  8.33333333e-02]\n",
      " [ 8.88888889e-01 -1.66666667e-01  7.28813559e-01  8.33333333e-01]\n",
      " [ 1.11111111e-01  1.66666667e-01  5.59322034e-01  9.16666667e-01]\n",
      " [ 1.66666667e-01 -8.33333333e-02  5.25423729e-01  4.16666667e-01]\n",
      " [-5.55555556e-02 -1.66666667e-01  2.88135593e-01  4.16666667e-01]\n",
      " [ 4.44444444e-01 -8.33333333e-02  4.91525424e-01  6.66666667e-01]\n",
      " [ 3.33333333e-01 -8.33333333e-02  5.59322034e-01  9.16666667e-01]\n",
      " [ 4.44444444e-01 -8.33333333e-02  3.89830508e-01  8.33333333e-01]\n",
      " [-1.66666667e-01 -4.16666667e-01  3.89830508e-01  5.00000000e-01]\n",
      " [ 3.88888889e-01  0.00000000e+00  6.61016949e-01  8.33333333e-01]\n",
      " [ 3.33333333e-01  8.33333333e-02  5.93220339e-01  1.00000000e+00]\n",
      " [ 3.33333333e-01 -1.66666667e-01  4.23728814e-01  8.33333333e-01]\n",
      " [ 1.11111111e-01 -5.83333333e-01  3.55932203e-01  5.00000000e-01]\n",
      " [ 2.22222222e-01 -1.66666667e-01  4.23728814e-01  5.83333333e-01]\n",
      " [ 5.55555556e-02  1.66666667e-01  4.91525424e-01  8.33333333e-01]\n",
      " [-1.11111111e-01 -1.66666667e-01  3.89830508e-01  4.16666667e-01]]\n"
     ]
    }
   ],
   "source": [
    "from sklearn.preprocessing import MinMaxScaler  # importação do sklearn para usar MinMax\n",
    "\n",
    "normalizador = MinMaxScaler(feature_range=(-1,1))         # função MinMax para criação de um normalizador\n",
    "X_normalizado = normalizador.fit_transform(X)\n",
    "print(X_normalizado)"
   ]
  },
  {
   "cell_type": "code",
   "execution_count": 6,
   "metadata": {},
   "outputs": [],
   "source": [
    "# Separando em amostra de Treino e Teste\n",
    "from sklearn.model_selection import train_test_split\n",
    "\n",
    "X_train, X_test, y_train, y_test = train_test_split(X_normalizado, y, test_size=0.2, shuffle=True, random_state=42)          # separação de 30% para teste e 70% para treino"
   ]
  },
  {
   "cell_type": "code",
   "execution_count": 7,
   "metadata": {},
   "outputs": [],
   "source": [
    "# Criação do FeatureMap\n",
    "from qiskit.circuit.library import ZZFeatureMap\n",
    "\n",
    "feature_map = ZZFeatureMap(feature_dimension=X_normalizado.shape[1], reps=1, entanglement='linear')"
   ]
  },
  {
   "cell_type": "code",
   "execution_count": 8,
   "metadata": {},
   "outputs": [
    {
     "data": {
      "image/png": "[encoded data removed]",
      "text/plain": [
       "<Figure size 1541.66x367.889 with 1 Axes>"
      ]
     },
     "execution_count": 8,
     "metadata": {},
     "output_type": "execute_result"
    }
   ],
   "source": [
    "feature_map.decompose().draw('mpl')"
   ]
  },
  {
   "cell_type": "code",
   "execution_count": 9,
   "metadata": {},
   "outputs": [
    {
     "name": "stderr",
     "output_type": "stream",
     "text": [
      "C:\\Users\\Pichau\\AppData\\Local\\Temp\\ipykernel_13072\\1134067542.py:3: DeprecationWarning: The class ``qiskit.primitives.backend_sampler.BackendSampler`` is deprecated as of qiskit 1.2. It will be removed no earlier than 3 months after the release date. All implementations of the `BaseSamplerV1` interface have been deprecated in favor of their V2 counterparts. The V2 alternative for the `BackendSampler` class is `BackendSamplerV2`.\n",
      "  sampler = BackendSampler(backend=mps_backend)                   # criação do sample do simulador\n"
     ]
    }
   ],
   "source": [
    "# Escolha do back-end (simulador)\n",
    "mps_backend = AerSimulator(method=\"matrix_product_state\")\n",
    "sampler = BackendSampler(backend=mps_backend)                   # criação do sample do simulador"
   ]
  },
  {
   "cell_type": "code",
   "execution_count": 10,
   "metadata": {},
   "outputs": [],
   "source": [
    "fidelity_kernel = FidelityQuantumKernel(feature_map=feature_map, fidelity=ComputeUncompute(sampler))"
   ]
  },
  {
   "cell_type": "code",
   "execution_count": 11,
   "metadata": {},
   "outputs": [
    {
     "data": {
      "text/html": [
       "<style>#sk-container-id-1 {color: black;}#sk-container-id-1 pre{padding: 0;}#sk-container-id-1 div.sk-toggleable {background-color: white;}#sk-container-id-1 label.sk-toggleable__label {cursor: pointer;display: block;width: 100%;margin-bottom: 0;padding: 0.3em;box-sizing: border-box;text-align: center;}#sk-container-id-1 label.sk-toggleable__label-arrow:before {content: \"▸\";float: left;margin-right: 0.25em;color: #696969;}#sk-container-id-1 label.sk-toggleable__label-arrow:hover:before {color: black;}#sk-container-id-1 div.sk-estimator:hover label.sk-toggleable__label-arrow:before {color: black;}#sk-container-id-1 div.sk-toggleable__content {max-height: 0;max-width: 0;overflow: hidden;text-align: left;background-color: #f0f8ff;}#sk-container-id-1 div.sk-toggleable__content pre {margin: 0.2em;color: black;border-radius: 0.25em;background-color: #f0f8ff;}#sk-container-id-1 input.sk-toggleable__control:checked~div.sk-toggleable__content {max-height: 200px;max-width: 100%;overflow: auto;}#sk-container-id-1 input.sk-toggleable__control:checked~label.sk-toggleable__label-arrow:before {content: \"▾\";}#sk-container-id-1 div.sk-estimator input.sk-toggleable__control:checked~label.sk-toggleable__label {background-color: #d4ebff;}#sk-container-id-1 div.sk-label input.sk-toggleable__control:checked~label.sk-toggleable__label {background-color: #d4ebff;}#sk-container-id-1 input.sk-hidden--visually {border: 0;clip: rect(1px 1px 1px 1px);clip: rect(1px, 1px, 1px, 1px);height: 1px;margin: -1px;overflow: hidden;padding: 0;position: absolute;width: 1px;}#sk-container-id-1 div.sk-estimator {font-family: monospace;background-color: #f0f8ff;border: 1px dotted black;border-radius: 0.25em;box-sizing: border-box;margin-bottom: 0.5em;}#sk-container-id-1 div.sk-estimator:hover {background-color: #d4ebff;}#sk-container-id-1 div.sk-parallel-item::after {content: \"\";width: 100%;border-bottom: 1px solid gray;flex-grow: 1;}#sk-container-id-1 div.sk-label:hover label.sk-toggleable__label {background-color: #d4ebff;}#sk-container-id-1 div.sk-serial::before {content: \"\";position: absolute;border-left: 1px solid gray;box-sizing: border-box;top: 0;bottom: 0;left: 50%;z-index: 0;}#sk-container-id-1 div.sk-serial {display: flex;flex-direction: column;align-items: center;background-color: white;padding-right: 0.2em;padding-left: 0.2em;position: relative;}#sk-container-id-1 div.sk-item {position: relative;z-index: 1;}#sk-container-id-1 div.sk-parallel {display: flex;align-items: stretch;justify-content: center;background-color: white;position: relative;}#sk-container-id-1 div.sk-item::before, #sk-container-id-1 div.sk-parallel-item::before {content: \"\";position: absolute;border-left: 1px solid gray;box-sizing: border-box;top: 0;bottom: 0;left: 50%;z-index: -1;}#sk-container-id-1 div.sk-parallel-item {display: flex;flex-direction: column;z-index: 1;position: relative;background-color: white;}#sk-container-id-1 div.sk-parallel-item:first-child::after {align-self: flex-end;width: 50%;}#sk-container-id-1 div.sk-parallel-item:last-child::after {align-self: flex-start;width: 50%;}#sk-container-id-1 div.sk-parallel-item:only-child::after {width: 0;}#sk-container-id-1 div.sk-dashed-wrapped {border: 1px dashed gray;margin: 0 0.4em 0.5em 0.4em;box-sizing: border-box;padding-bottom: 0.4em;background-color: white;}#sk-container-id-1 div.sk-label label {font-family: monospace;font-weight: bold;display: inline-block;line-height: 1.2em;}#sk-container-id-1 div.sk-label-container {text-align: center;}#sk-container-id-1 div.sk-container {/* jupyter's `normalize.less` sets `[hidden] { display: none; }` but bootstrap.min.css set `[hidden] { display: none !important; }` so we also need the `!important` here to be able to override the default hidden behavior on the sphinx rendered scikit-learn.org. See: https://github.com/scikit-learn/scikit-learn/issues/21755 */display: inline-block !important;position: relative;}#sk-container-id-1 div.sk-text-repr-fallback {display: none;}</style><div id=\"sk-container-id-1\" class=\"sk-top-container\"><div class=\"sk-text-repr-fallback\"><pre>SVC(C=0.5,\n",
       "    kernel=&lt;bound method FidelityQuantumKernel.evaluate of &lt;qiskit_machine_learning.kernels.fidelity_quantum_kernel.FidelityQuantumKernel object at 0x000001D8FA508A90&gt;&gt;)</pre><b>In a Jupyter environment, please rerun this cell to show the HTML representation or trust the notebook. <br />On GitHub, the HTML representation is unable to render, please try loading this page with nbviewer.org.</b></div><div class=\"sk-container\" hidden><div class=\"sk-item\"><div class=\"sk-estimator sk-toggleable\"><input class=\"sk-toggleable__control sk-hidden--visually\" id=\"sk-estimator-id-1\" type=\"checkbox\" checked><label for=\"sk-estimator-id-1\" class=\"sk-toggleable__label sk-toggleable__label-arrow\">SVC</label><div class=\"sk-toggleable__content\"><pre>SVC(C=0.5,\n",
       "    kernel=&lt;bound method FidelityQuantumKernel.evaluate of &lt;qiskit_machine_learning.kernels.fidelity_quantum_kernel.FidelityQuantumKernel object at 0x000001D8FA508A90&gt;&gt;)</pre></div></div></div></div></div>"
      ],
      "text/plain": [
       "SVC(C=0.5,\n",
       "    kernel=<bound method FidelityQuantumKernel.evaluate of <qiskit_machine_learning.kernels.fidelity_quantum_kernel.FidelityQuantumKernel object at 0x000001D8FA508A90>>)"
      ]
     },
     "execution_count": 11,
     "metadata": {},
     "output_type": "execute_result"
    }
   ],
   "source": [
    "from sklearn.svm import SVC\n",
    "\n",
    "\n",
    "svc = SVC(kernel=fidelity_kernel.evaluate, C=0.5)           # utilizando o SVC\n",
    "svc.fit(X_train, y_train)                                   # treinamento do modelo"
   ]
  },
  {
   "cell_type": "code",
   "execution_count": 12,
   "metadata": {},
   "outputs": [],
   "source": [
    "y_pred = svc.predict(X_test)          # Usando os dados para fazer a previsão"
   ]
  },
  {
   "cell_type": "code",
   "execution_count": 14,
   "metadata": {},
   "outputs": [
    {
     "data": {
      "text/plain": [
       "0.9666666666666667"
      ]
     },
     "execution_count": 14,
     "metadata": {},
     "output_type": "execute_result"
    }
   ],
   "source": [
    "# Acurácia do Modelo\n",
    "accuracy_svc = svc.score(X_test, y_pred)\n",
    "accuracy_svc"
   ]
  },
  {
   "cell_type": "markdown",
   "metadata": {},
   "source": [
    "## QSVC"
   ]
  },
  {
   "cell_type": "code",
   "execution_count": 15,
   "metadata": {},
   "outputs": [
    {
     "name": "stderr",
     "output_type": "stream",
     "text": [
      "C:\\Users\\Pichau\\AppData\\Local\\Temp\\ipykernel_13072\\2029354100.py:4: QiskitMachineLearningWarning: \"'kernel' argument is not supported and will be discarded, please use 'quantum_kernel' instead.\"\n",
      "  qsvc = QSVC(kernel=fidelity_kernel)         # utilizando o QSVC\n"
     ]
    }
   ],
   "source": [
    "# Criação do modelo QSVC usando o Kernel Quântico\n",
    "from qiskit_machine_learning.algorithms import QSVC\n",
    "\n",
    "qsvc = QSVC(kernel=fidelity_kernel)         # utilizando o QSVC\n",
    "qsvc.fit(X_train, y_train)                  # treinamento do modelo\n",
    "\n",
    "y_pred_qsvc = qsvc.predict(X_test)          # Usando os dados para fazer a previsão"
   ]
  },
  {
   "cell_type": "code",
   "execution_count": null,
   "metadata": {},
   "outputs": [
    {
     "data": {
      "text/plain": [
       "0.7"
      ]
     },
     "execution_count": 17,
     "metadata": {},
     "output_type": "execute_result"
    }
   ],
   "source": [
    "# Acurácia do modelo\n",
    "# Acurácia do Modelo\n",
    "accuracy_qsvc = qsvc.score(X_test, y_pred_qsvc)\n",
    "accuracy_qsvc"
   ]
  }
 ],
 "metadata": {
  "kernelspec": {
   "display_name": "venv",
   "language": "python",
   "name": "python3"
  },
  "language_info": {
   "codemirror_mode": {
    "name": "ipython",
    "version": 3
   },
   "file_extension": ".py",
   "mimetype": "text/x-python",
   "name": "python",
   "nbconvert_exporter": "python",
   "pygments_lexer": "ipython3",
   "version": "3.8.10"
  }
 },
 "nbformat": 4,
 "nbformat_minor": 2
}
